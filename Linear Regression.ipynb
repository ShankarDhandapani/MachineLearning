{
 "cells": [
  {
   "cell_type": "markdown",
   "metadata": {},
   "source": [
    "# Regression Analysis\n",
    "\n",
    "  Regression analysis is a form of predictive modeling technique which investigate the relationship between a dependent variable and independent variable\n",
    "    \n",
    "### Dependent Variable (Target Variable)\n",
    "  It is something that depends on other factors. For example, a test score could be a dependent variable because it could change depending on several factors such as how much you studied, how much sleep you got the night before you took the test, or even how hungry you were when you took it.\n",
    "### Independent Variable (Predictor Variable)\n",
    "  An independent variable is exactly what it sounds like. It is a variable that stands alone and isn't changed by the other variables you are trying to measure. For example, someone's age might be an independent variable. Other factors (such as what they eat, how much they go to school, how much television they watch) aren't going to change a person's age.\n",
    "\n",
    "# Uses\n",
    "1. Determine the strength of predictors\n",
    "2. Forecasting an effect\n",
    "3. Trend forecasting\n",
    "\n",
    "### Determine the strength of predictors\n",
    "    * It determines the strength of Independent variable have on dependent variable\n",
    "    * For Example : \n",
    "        * Strength of sales and marketing \n",
    "        * Strength of age and income\n",
    "### Forecasting an effect\n",
    "    * It is used to forecast effect or impact of changes\n",
    "    * Let us say, How much the dependent variable change in change with the one or more independent variable\n",
    "    * For Example : \n",
    "        * How much additional sale income I get for each 1000 dollar in marketing\n",
    "### Trend Forecasting\n",
    "    * Relationship between trends and future values to get point estimates\n",
    "    * For example : \n",
    "        * Predicting the price of bit coin in next 6 months\n",
    "# Difference between Linear Regression and Logistic Regression\n",
    "\n",
    "  Content            | Linear Regression | Logistic Regression\n",
    " ------------------- | ----------------- | ---------------\n",
    " Core Concept | The data is modelled using a straight Line \\[Regression Line\\] | Probability of some obtained event is represented as linear function of a combination of predictor variable\n",
    " Used With | Continous variable | categorical variable\n",
    " Output / Prediction | Value of Variable | Probability of occurance of event\n",
    " Accuracy and gooness of fit | Measured by Loss, R_Squared, Adjusted R_Squared, etc..., | Accuracy, Precision, Recall, F1 Score, ROC Curve, Confusion Matrix\n",
    " Mapping | Maps Continous X to Continous Y | Maps Continous X to Binary Y\n",
    " \n",
    "# Linear Regression Selection Criteria\n",
    "\\[When we use Linear Regression\\] \n",
    "\n",
    "    * Classification and Regression Capabilities\n",
    "        Linear Regression predict the continous variable such as sales made on a day or weather of the day which can be fit to a straight line when more data points are added to existing data the threshold value may change. So the Linear Regression is not good for classification model\n",
    "    * Data Quality\n",
    "        Outliers may disturb the outcome. So removing the outlier will improve the model\n",
    "    * Computational Complexity\n",
    "        * It is not expensive as Baysian tree or Clustering algorithm\n",
    "        * Order of complexity O(x^2) or O(x(n))\n",
    "    * Comprehensible and Transparent\n",
    "        * It is easily comprehensible and transparent by nature\n",
    "        * Represented by simple mathematical notations and easily understandable.\n",
    "## Where is Linear Regression Used?\n",
    "    * Evaluating trends and sale estimates\n",
    "        * Independent Variable (X - Axis) : Time\n",
    "        * Dependent Variable (Y - Axis) : Monthly sales\n",
    "    * Analysing impact of price change\n",
    "        * Independent Variable (X - Axis) : Price\n",
    "        * Dependent Variable (Y - Axis) : Sold Quantity\n",
    "    * Assesment of Risk in financial services and insurance domain\n",
    "        * Independent Variable (X - Axis) : Age\n",
    "        * Dependent Variable (Y - Axis) : Number of claims per customer\n",
    "        \n",
    "# Understanding Linear Regression\n",
    "\n",
    "![Algorithm](http://ci.columbia.edu/ci/premba_test/c0331/images/s7/8450332140.gif)\n",
    "\n",
    "Relation between Independent variable and Dependent variable is :\n",
    "```\n",
    "Y = mX + c\n",
    "```\n",
    "![Positive and negative relationship](https://cdn-images-1.medium.com/max/1120/1*N2usf10aKCq1JBIqxj-YFQ.png)\n",
    "##### Error\n",
    "    Error is the distance between the Estimated value and the Actual value\n",
    "   ![Error](https://docs.oracle.com/cd/E24693_01/datamine.11203/e16808/img/scatter_plot.gif)\n",
    "   ![](data:image/png;base64,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)\n",
    "   \n",
    "## Calculation of Best Fit\n",
    "### Least Squared Method\n",
    "    * Goal : Minimize the error.\n",
    "    * In Linear Regression, m (Slope) Value change in iteration and for each iteration the difference between the actual value and estimated value is calculated.\n",
    "    * The line with minimum error is the Line of Regression.\n",
    "    \n",
    "### R_Squared Method\n",
    "    * It is the measure of how close the data are fitted to the regression line \n",
    "    * It is also called as Co-Efficient of determination  or Co-Efficient of Multiple determination\n",
    "    * Formula : \n",
    "   ![Formula](https://i.stack.imgur.com/xb1VY.png)"
   ]
  },
  {
   "cell_type": "markdown",
   "metadata": {},
   "source": [
    "# Implementation of Linear Regression in python"
   ]
  },
  {
   "cell_type": "code",
   "execution_count": 11,
   "metadata": {},
   "outputs": [
    {
     "name": "stdout",
     "output_type": "stream",
     "text": [
      "(237, 4)\n"
     ]
    },
    {
     "data": {
      "text/html": [
       "<div>\n",
       "<style scoped>\n",
       "    .dataframe tbody tr th:only-of-type {\n",
       "        vertical-align: middle;\n",
       "    }\n",
       "\n",
       "    .dataframe tbody tr th {\n",
       "        vertical-align: top;\n",
       "    }\n",
       "\n",
       "    .dataframe thead th {\n",
       "        text-align: right;\n",
       "    }\n",
       "</style>\n",
       "<table border=\"1\" class=\"dataframe\">\n",
       "  <thead>\n",
       "    <tr style=\"text-align: right;\">\n",
       "      <th></th>\n",
       "      <th>Gender</th>\n",
       "      <th>Age Range</th>\n",
       "      <th>Head Size(cm^3)</th>\n",
       "      <th>Brain Weight(grams)</th>\n",
       "    </tr>\n",
       "  </thead>\n",
       "  <tbody>\n",
       "    <tr>\n",
       "      <th>0</th>\n",
       "      <td>1</td>\n",
       "      <td>1</td>\n",
       "      <td>4512</td>\n",
       "      <td>1530</td>\n",
       "    </tr>\n",
       "    <tr>\n",
       "      <th>1</th>\n",
       "      <td>1</td>\n",
       "      <td>1</td>\n",
       "      <td>3738</td>\n",
       "      <td>1297</td>\n",
       "    </tr>\n",
       "    <tr>\n",
       "      <th>2</th>\n",
       "      <td>1</td>\n",
       "      <td>1</td>\n",
       "      <td>4261</td>\n",
       "      <td>1335</td>\n",
       "    </tr>\n",
       "    <tr>\n",
       "      <th>3</th>\n",
       "      <td>1</td>\n",
       "      <td>1</td>\n",
       "      <td>3777</td>\n",
       "      <td>1282</td>\n",
       "    </tr>\n",
       "    <tr>\n",
       "      <th>4</th>\n",
       "      <td>1</td>\n",
       "      <td>1</td>\n",
       "      <td>4177</td>\n",
       "      <td>1590</td>\n",
       "    </tr>\n",
       "    <tr>\n",
       "      <th>5</th>\n",
       "      <td>1</td>\n",
       "      <td>1</td>\n",
       "      <td>3585</td>\n",
       "      <td>1300</td>\n",
       "    </tr>\n",
       "    <tr>\n",
       "      <th>6</th>\n",
       "      <td>1</td>\n",
       "      <td>1</td>\n",
       "      <td>3785</td>\n",
       "      <td>1400</td>\n",
       "    </tr>\n",
       "    <tr>\n",
       "      <th>7</th>\n",
       "      <td>1</td>\n",
       "      <td>1</td>\n",
       "      <td>3559</td>\n",
       "      <td>1255</td>\n",
       "    </tr>\n",
       "    <tr>\n",
       "      <th>8</th>\n",
       "      <td>1</td>\n",
       "      <td>1</td>\n",
       "      <td>3613</td>\n",
       "      <td>1355</td>\n",
       "    </tr>\n",
       "    <tr>\n",
       "      <th>9</th>\n",
       "      <td>1</td>\n",
       "      <td>1</td>\n",
       "      <td>3982</td>\n",
       "      <td>1375</td>\n",
       "    </tr>\n",
       "  </tbody>\n",
       "</table>\n",
       "</div>"
      ],
      "text/plain": [
       "   Gender  Age Range  Head Size(cm^3)  Brain Weight(grams)\n",
       "0       1          1             4512                 1530\n",
       "1       1          1             3738                 1297\n",
       "2       1          1             4261                 1335\n",
       "3       1          1             3777                 1282\n",
       "4       1          1             4177                 1590\n",
       "5       1          1             3585                 1300\n",
       "6       1          1             3785                 1400\n",
       "7       1          1             3559                 1255\n",
       "8       1          1             3613                 1355\n",
       "9       1          1             3982                 1375"
      ]
     },
     "execution_count": 11,
     "metadata": {},
     "output_type": "execute_result"
    }
   ],
   "source": [
    "%matplotlib inline\n",
    "\n",
    "import numpy as np\n",
    "import pandas as pd\n",
    "import matplotlib.pyplot as plt\n",
    "plt.rcParams['figure.figsize'] = (20.0, 10.0)\n",
    "\n",
    "# Reading Data from CSV\n",
    "data = pd.read_csv('headbrain.csv')\n",
    "print(data.shape)\n",
    "data.head(10)"
   ]
  },
  {
   "cell_type": "code",
   "execution_count": 2,
   "metadata": {},
   "outputs": [],
   "source": [
    "X = data['Head Size(cm^3)'].values\n",
    "Y = data['Brain Weight(grams)'].values"
   ]
  },
  {
   "cell_type": "code",
   "execution_count": 10,
   "metadata": {},
   "outputs": [
    {
     "name": "stdout",
     "output_type": "stream",
     "text": [
      "Slope :  [0.26342934] \n",
      "y_intecept :  [325.57342105]\n"
     ]
    }
   ],
   "source": [
    "# Mean of X and Y\n",
    "mean_x = np.mean(X)\n",
    "mean_y = np.mean(Y)\n",
    "\n",
    "# Total number of values\n",
    "n = len(X)\n",
    "\n",
    "# Using the formula to calculate slope and y-intercept\n",
    "numerator = 0\n",
    "denominator = 0\n",
    "for i in range(n):\n",
    "    numerator += (X[i] - mean_x) * (Y[i] - mean_y)\n",
    "    denominator += (X[i] - mean_x) ** 2\n",
    "    \n",
    "slope = numerator / denominator\n",
    "y_intercept = mean_y - (slope * mean_x)\n",
    "\n",
    "# Print Co-efficients\n",
    "print(\"Slope : \", slope, \"\\ny_intecept : \", y_intercept)"
   ]
  },
  {
   "cell_type": "code",
   "execution_count": 4,
   "metadata": {},
   "outputs": [
    {
     "data": {
      "image/png": "[encoded data removed]",
      "text/plain": [
       "<Figure size 432x288 with 1 Axes>"
      ]
     },
     "metadata": {
      "needs_background": "light"
     },
     "output_type": "display_data"
    }
   ],
   "source": [
    "# Plotting values and linear regression\n",
    "min_x = np.min(X) - 100\n",
    "max_x = np.max(X) + 100\n",
    "\n",
    "# Calculating line values x and y\n",
    "x_axis = np.linspace(min_x, max_x, 1000)\n",
    "y_axis = y_intercept + slope * x_axis\n",
    "\n",
    "# Plotting line\n",
    "plt.plot(x_axis, y_axis, color = '#FF0000', label = 'Regression Line')\n",
    "\n",
    "# Plotting Scatter points\n",
    "plt.scatter(X, Y, c = '#FFFF00', label = 'Scatter plot')\n",
    "\n",
    "plt.xlabel('Head Size in cm3')\n",
    "plt.ylabel('Brain Weight in grams')\n",
    "plt.legend()\n",
    "plt.show()"
   ]
  },
  {
   "cell_type": "code",
   "execution_count": 5,
   "metadata": {},
   "outputs": [
    {
     "name": "stdout",
     "output_type": "stream",
     "text": [
      "0.6393117199570003\n"
     ]
    }
   ],
   "source": [
    "total_sum_of_squares = 0\n",
    "total_sum_of_squares_of_regression = 0\n",
    "for i in range(n):\n",
    "    y_predicted = slope * X[i] + y_intercept\n",
    "    total_sum_of_squares_of_regression += (Y[i] - y_predicted) ** 2\n",
    "    total_sum_of_squares += (Y[i] - mean_y) ** 2\n",
    "r2 = 1 - (total_sum_of_squares_of_regression / total_sum_of_squares)\n",
    "print(\"R2 Score : \", r2)"
   ]
  },
  {
   "cell_type": "markdown",
   "metadata": {},
   "source": [
    "# Implementation of Linear Regression using the scikit learn library"
   ]
  },
  {
   "cell_type": "code",
   "execution_count": 6,
   "metadata": {},
   "outputs": [],
   "source": [
    "from sklearn.linear_model import LinearRegression\n",
    "from sklearn.metrics import mean_squared_error"
   ]
  },
  {
   "cell_type": "code",
   "execution_count": 9,
   "metadata": {},
   "outputs": [
    {
     "name": "stdout",
     "output_type": "stream",
     "text": [
      "R2 Score :  0.639311719957\n"
     ]
    }
   ],
   "source": [
    "# Cannot use Rank 1 Matrix in scikit learn\n",
    "X = X.reshape((n, 1))\n",
    "\n",
    "# Creating Model\n",
    "reg = LinearRegression()\n",
    "\n",
    "# Fitting traning data to regression\n",
    "reg = reg.fit(X, Y)\n",
    "\n",
    "# Y Prediction\n",
    "y_predict = reg.predict(X)\n",
    "\n",
    "# Calculating R2 Score\n",
    "r2_score = reg.score(X, Y)\n",
    "print(\"R2 Score : \",r2_score)"
   ]
  }
 ],
 "metadata": {
  "kernelspec": {
   "display_name": "Python 3",
   "language": "python",
   "name": "python3"
  },
  "language_info": {
   "codemirror_mode": {
    "name": "ipython",
    "version": 3
   },
   "file_extension": ".py",
   "mimetype": "text/x-python",
   "name": "python",
   "nbconvert_exporter": "python",
   "pygments_lexer": "ipython3",
   "version": "3.6.7"
  }
 },
 "nbformat": 4,
 "nbformat_minor": 2
}
